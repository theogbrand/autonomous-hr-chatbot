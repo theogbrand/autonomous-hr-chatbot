{
 "cells": [
  {
   "attachments": {},
   "cell_type": "markdown",
   "metadata": {},
   "source": [
    "#### Companion reading if you want to understand how it works:  \n",
    "\n",
    "[Creating a (mostly) Autonomous HR Assistant with ChatGPT and LangChain’s Agents and Tools](https://medium.com/@stephen.bonifacio/creating-a-mostly-autonomous-hr-assistant-with-chatgpt-and-langchains-agents-and-tools-1cdda0aa70ef)\n",
    "\n"
   ]
  },
  {
   "cell_type": "code",
   "execution_count": null,
   "metadata": {},
   "outputs": [],
   "source": [
    "# load core modules\n",
    "import pinecone\n",
    "from langchain.embeddings.openai import OpenAIEmbeddings\n",
    "from langchain.vectorstores import Pinecone\n",
    "from langchain.chat_models import AzureChatOpenAI\n",
    "from langchain.chains import RetrievalQA\n",
    "# load agents and tools modules\n",
    "import pandas as pd\n",
    "from azure.storage.filedatalake import DataLakeServiceClient\n",
    "from io import StringIO\n",
    "from langchain.tools.python.tool import PythonAstREPLTool\n",
    "from langchain.agents import initialize_agent, Tool\n",
    "from langchain.agents import AgentType\n",
    "from langchain import LLMMathChain\n",
    "\n",
    "# initialize pinecone client and connect to pinecone index\n",
    "pinecone.init(\n",
    "        api_key=\"<your pinecone api key>\",  \n",
    "        environment=\"your pinecone environment\"  \n",
    ") \n",
    "\n",
    "index_name = 'tk-policy'\n",
    "index = pinecone.Index(index_name) # connect to pinecone index\n",
    "\n",
    "\n",
    "# initialize embeddings object; for use with user query/input\n",
    "embed = OpenAIEmbeddings(\n",
    "                deployment=\"<your deployment name>\",\n",
    "                model=\"text-embedding-ada-002\",\n",
    "                openai_api_key='<your azure openai api key>',\n",
    "                openai_api_base=\"<your api base>\",\n",
    "                openai_api_type=\"azure\",\n",
    "            )\n",
    "\n",
    "# initialize langchain vectorstore(pinecone) object\n",
    "text_field = 'text' # key of dict that stores the text metadata in the index\n",
    "vectorstore = Pinecone(\n",
    "    index, embed.embed_query, text_field\n",
    ")\n",
    "\n",
    "# initialize LLM object\n",
    "llm = AzureChatOpenAI(    \n",
    "    deployment_name=\"<your deployment name>\", \n",
    "    model_name=\"gpt-35-turbo\", \n",
    "    openai_api_key='<your openai api key>',\n",
    "    openai_api_version = '2023-03-15-preview', \n",
    "    openai_api_base='<your api base>',\n",
    "    openai_api_type='azure'\n",
    "    )\n",
    "\n",
    "# initialize vectorstore retriever object\n",
    "timekeeping_policy = RetrievalQA.from_chain_type(\n",
    "    llm=llm,\n",
    "    chain_type=\"stuff\",\n",
    "    retriever=vectorstore.as_retriever(),\n",
    ")\n",
    "\n",
    "# create employee data tool \n",
    "client = DataLakeServiceClient( # authenticate to azure datalake\n",
    "                               account_url=\"<you azure account storage url>\",\n",
    "                               credential=\"<your azure storage account keys>\"\n",
    "                              )\n",
    "# azure data lake boilerplate to load from file system.  \n",
    "file = client.get_file_system_client(\"<your azure storage account name>\") \\\n",
    "             .get_file_client(\"employee_data/employee_data.csv\") \\\n",
    "             .download_file() \\\n",
    "             .readall() \\\n",
    "             .decode('utf-8') \n",
    "\n",
    "csv_file = StringIO(file) \n",
    "df = pd.read_csv(csv_file) # load employee_data.csv as dataframe\n",
    "python = PythonAstREPLTool(locals={\"df\": df}) # set access of python_repl tool to the dataframe\n",
    "\n",
    "# create calculator tool\n",
    "calculator = LLMMathChain.from_llm(llm=llm, verbose=True)\n",
    "\n",
    "# create variables for f strings embedded in the prompts\n",
    "user = 'Alexander Verdad' # set user\n",
    "df_columns = df.columns.to_list() # print column names of df\n",
    "\n",
    "# prep the (tk policy) vectordb retriever, the python_repl(with df access) and langchain calculator as tools for the agent\n",
    "tools = [\n",
    "    Tool(\n",
    "        name = \"Timekeeping Policies\",\n",
    "        func=timekeeping_policy.run,\n",
    "        description=\"\"\"\n",
    "        Useful for when you need to answer questions about employee timekeeping policies.\n",
    "\n",
    "        <user>: What is the policy on unused vacation leave?\n",
    "        <assistant>: I need to check the timekeeping policies to answer this question.\n",
    "        <assistant>: Action: Timekeeping Policies\n",
    "        <assistant>: Action Input: Vacation Leave Policy - Unused Leave\n",
    "        ...\n",
    "        \"\"\"\n",
    "    ),\n",
    "    Tool(\n",
    "        name = \"Employee Data\",\n",
    "        func=python.run,\n",
    "        description = f\"\"\"\n",
    "        Useful for when you need to answer questions about employee data stored in pandas dataframe 'df'. \n",
    "        Run python pandas operations on 'df' to help you get the right answer.\n",
    "        'df' has the following columns: {df_columns}\n",
    "        \n",
    "        <user>: How many Sick Leave do I have left?\n",
    "        <assistant>: df[df['name'] == '{user}']['sick_leave']\n",
    "        <assistant>: You have n sick leaves left.              \n",
    "        \"\"\"\n",
    "    ),\n",
    "    Tool(\n",
    "        name = \"Calculator\",\n",
    "        func=calculator.run,\n",
    "        description = f\"\"\"\n",
    "        Useful when you need to do math operations or arithmetic.\n",
    "        \"\"\"\n",
    "    )\n",
    "]\n",
    "\n",
    "# change the value of the prefix argument in the initialize_agent function. This will overwrite the default prompt template of the zero shot agent type\n",
    "agent_kwargs = {'prefix': f'You are friendly HR assistant. You are tasked to assist the current user: {user} on questions related to HR. You have access to the following tools:'}\n",
    "\n",
    "\n",
    "# initialize the LLM agent\n",
    "agent = initialize_agent(tools, \n",
    "                         llm, \n",
    "                         agent=AgentType.ZERO_SHOT_REACT_DESCRIPTION, \n",
    "                         verbose=True, \n",
    "                         agent_kwargs=agent_kwargs\n",
    "                         )\n",
    "# define q and a function for frontend\n",
    "def get_response(user_input):\n",
    "    response = agent.run(user_input)\n",
    "    return response"
   ]
  },
  {
   "cell_type": "code",
   "execution_count": 21,
   "metadata": {},
   "outputs": [
    {
     "name": "stdout",
     "output_type": "stream",
     "text": [
      "You are friendly HR assistant. You are tasked to assist the current user: Alexander Verdad on questions related to HR. You have access to the following tools:\n",
      "\n",
      "Timekeeping Policies: \n",
      "        Useful for when you need to answer questions about employee timekeeping policies.\n",
      "        \n",
      "Employee Data: \n",
      "        Useful for when you need to answer questions about employee data stored in pandas dataframe 'df'. \n",
      "        Run python pandas operations on 'df' to help you get the right answer.\n",
      "        'df' has the following columns: ['employee_id', 'name', 'position', 'organizational_unit', 'rank', 'hire_date', 'regularization_date', 'vacation_leave', 'sick_leave', 'basic_pay_in_php', 'employment_status', 'supervisor']\n",
      "        \n",
      "        <user>: How many Sick Leave do I have left?\n",
      "        <assistant>: df[df['name'] == 'Alexander Verdad']['sick_leave']\n",
      "        <assistant>: You have n sick leaves left.              \n",
      "        \n",
      "Calculator: \n",
      "        Useful when you need to do math operations or arithmetic.\n",
      "        \n",
      "\n",
      "Use the following format:\n",
      "\n",
      "Question: the input question you must answer\n",
      "Thought: you should always think about what to do\n",
      "Action: the action to take, should be one of [Timekeeping Policies, Employee Data, Calculator]\n",
      "Action Input: the input to the action\n",
      "Observation: the result of the action\n",
      "... (this Thought/Action/Action Input/Observation can repeat N times)\n",
      "Thought: I now know the final answer\n",
      "Final Answer: the final answer to the original input question\n",
      "\n",
      "Begin!\n",
      "\n",
      "Question: {input}\n",
      "Thought:{agent_scratchpad}\n"
     ]
    }
   ],
   "source": [
    "print(agent.agent.llm_chain.prompt.template)"
   ]
  },
  {
   "cell_type": "code",
   "execution_count": 22,
   "metadata": {},
   "outputs": [
    {
     "name": "stdout",
     "output_type": "stream",
     "text": [
      "\n",
      "\n",
      "\u001b[1m> Entering new AgentExecutor chain...\u001b[0m\n",
      "\u001b[32;1m\u001b[1;3mI should use the Employee Data tool to find the information.\n",
      "Action: Employee Data\n",
      "Action Input: df[df['name'] == 'Alexander Verdad'][['employee_id', 'name']]\u001b[0m\n",
      "Observation: \u001b[33;1m\u001b[1;3m   employee_id              name\n",
      "1      1005676  Alexander Verdad\u001b[0m\n",
      "Thought:\u001b[32;1m\u001b[1;3mI have found the answer.\n",
      "Final Answer: Your name is Alexander Verdad and your employee id is 1005676.\u001b[0m\n",
      "\n",
      "\u001b[1m> Finished chain.\u001b[0m\n"
     ]
    },
    {
     "data": {
      "text/plain": [
       "'Your name is Alexander Verdad and your employee id is 1005676.'"
      ]
     },
     "execution_count": 22,
     "metadata": {},
     "output_type": "execute_result"
    }
   ],
   "source": [
    "get_response('What is my name and employee id?')"
   ]
  },
  {
   "cell_type": "code",
   "execution_count": 22,
   "metadata": {},
   "outputs": [
    {
     "name": "stdout",
     "output_type": "stream",
     "text": [
      "\n",
      "\n",
      "\u001b[1m> Entering new AgentExecutor chain...\u001b[0m\n",
      "\u001b[32;1m\u001b[1;3mI need to check the company's timekeeping policies to see if probationary employees are allowed to take vacation leaves.\n",
      "Action: Timekeeping Policies\n",
      "Action Input: Search for \"vacation leave\" in the timekeeping policies document\u001b[0m\n",
      "Observation: \u001b[36;1m\u001b[1;3mI'm sorry, but I cannot perform that task as the context provided only includes the HR Policy Manual - Leave Policy and the HR Policy Manual - Attendance Policy. There is no mention of a timekeeping policies document.\u001b[0m\n",
      "Thought:\u001b[32;1m\u001b[1;3mI need to check the HR Policy Manual - Leave Policy to see if probationary employees are allowed to take vacation leaves.\n",
      "Action: Timekeeping Policies\n",
      "Action Input: Search for \"probationary\" in the HR Policy Manual - Leave Policy\u001b[0m\n",
      "Observation: \u001b[36;1m\u001b[1;3mIn the HR Policy Manual - Leave Policy, under the section \"III. LEAVE POLICY,\" in subsection A. Vacation Leave, point 5, it is mentioned that \"During Probation: Employees on probation are not eligible for Vacation Leave.\" In subsection C. Service Incentive Leave, point 5, it is mentioned that \"During Probation: Employees on probation are not eligible for Service Incentive Leave.\" In subsection D. Paternity Leave, point 5, it is mentioned that \"During Probation: Employees on probation are eligible for Paternity Leave.\" In subsection E. Maternity Leave, point 5, it is mentioned that \"During Probation: Employees on probation are eligible for Maternity Leave.\"\u001b[0m\n",
      "Thought:\u001b[32;1m\u001b[1;3mBased on the HR Policy Manual - Leave Policy, probationary employees are not allowed to take vacation leaves.\n",
      "Final Answer: No, probationary employees are not allowed to have vacation leaves according to the HR Policy Manual - Leave Policy.\u001b[0m\n",
      "\n",
      "\u001b[1m> Finished chain.\u001b[0m\n"
     ]
    },
    {
     "data": {
      "text/plain": [
       "'No, probationary employees are not allowed to have vacation leaves according to the HR Policy Manual - Leave Policy.'"
      ]
     },
     "execution_count": 22,
     "metadata": {},
     "output_type": "execute_result"
    }
   ],
   "source": [
    "get_response('Are employees on probation allowed to have vacation leaves?')"
   ]
  },
  {
   "cell_type": "code",
   "execution_count": 23,
   "metadata": {},
   "outputs": [
    {
     "name": "stdout",
     "output_type": "stream",
     "text": [
      "\n",
      "\n",
      "\u001b[1m> Entering new AgentExecutor chain...\u001b[0m\n",
      "\u001b[32;1m\u001b[1;3mI need to check the employee data to get the number of vacation leaves left and the timekeeping policies to know the policy on unused VLs.\n",
      "Action: Employee Data\n",
      "Action Input: df[df['name'] == 'Alexander Verdad']['vacation_leave']\u001b[0m\n",
      "Observation: \u001b[33;1m\u001b[1;3m1    45\n",
      "Name: vacation_leave, dtype: int64\u001b[0m\n",
      "Thought:\u001b[32;1m\u001b[1;3mNow I need to check the timekeeping policies to know the policy on unused VLs.\n",
      "Action: Timekeeping Policies\n",
      "Action Input: Check the company's employee handbook or policy manual for information on unused VLs.\u001b[0m\n",
      "Observation: \u001b[36;1m\u001b[1;3mAccording to the HR Policy Manual - Leave Policy, unused Vacation Leave can be carried over to the next year. However, the total accumulated leave should not exceed 30 days. Any excess leave will be forfeited. Unused Vacation Leave can also be encashed at the end of the year at the basic salary rate. Encashment rate is basic salary divided by 30 days multiplied by unused leaves to be encashed.\u001b[0m\n",
      "Thought:\u001b[32;1m\u001b[1;3mI now know the policy on unused VLs and the number of vacation leaves left.\n",
      "Final Answer: You have 45 vacation leaves left and unused VLs can be carried over to the next year but should not exceed 30 days. Any excess leave will be forfeited. Unused VLs can also be encashed at the end of the year at the basic salary rate. Encashment rate is basic salary divided by 30 days multiplied by unused leaves to be encashed.\u001b[0m\n",
      "\n",
      "\u001b[1m> Finished chain.\u001b[0m\n"
     ]
    },
    {
     "data": {
      "text/plain": [
       "'You have 45 vacation leaves left and unused VLs can be carried over to the next year but should not exceed 30 days. Any excess leave will be forfeited. Unused VLs can also be encashed at the end of the year at the basic salary rate. Encashment rate is basic salary divided by 30 days multiplied by unused leaves to be encashed.'"
      ]
     },
     "execution_count": 23,
     "metadata": {},
     "output_type": "execute_result"
    }
   ],
   "source": [
    "get_response(\"How many vacation leaves do I have left and what is the policy on unused VLs?\")"
   ]
  },
  {
   "cell_type": "code",
   "execution_count": 24,
   "metadata": {},
   "outputs": [
    {
     "name": "stdout",
     "output_type": "stream",
     "text": [
      "\n",
      "\n",
      "\u001b[1m> Entering new AgentExecutor chain...\u001b[0m\n",
      "\u001b[32;1m\u001b[1;3mI need to check the timekeeping policies and the employee data to calculate the amount.\n",
      "Action: Timekeeping Policies\n",
      "Action Input: Check the policy on VL encashment\u001b[0m\n",
      "Observation: \u001b[36;1m\u001b[1;3mAccording to the HR Policy Manual - Leave Policy, Vacation Leave can be encashed at the end of the year at the basic salary rate. The encashment rate is basic salary divided by 30 days multiplied by unused leaves to be encashed.\u001b[0m\n",
      "Thought:\u001b[32;1m\u001b[1;3mNow I need to get the basic salary rate and the number of unused VLs from the employee data.\n",
      "Action: Employee Data\n",
      "Action Input: df[df['name'] == 'Alexander Verdad'][['basic_pay_in_php', 'vacation_leave']]\u001b[0m\n",
      "Observation: \u001b[33;1m\u001b[1;3m   basic_pay_in_php  vacation_leave\n",
      "1             15000              45\u001b[0m\n",
      "Thought:\u001b[32;1m\u001b[1;3mNow I can calculate the amount.\n",
      "Action: Calculator\n",
      "Action Input: (15000/30)*45\u001b[0m\n",
      "\n",
      "\u001b[1m> Entering new LLMMathChain chain...\u001b[0m\n",
      "(15000/30)*45\u001b[32;1m\u001b[1;3m```text\n",
      "(15000/30)*45\n",
      "```\n",
      "...numexpr.evaluate(\"(15000/30)*45\")...\n",
      "\u001b[0m\n",
      "Answer: \u001b[33;1m\u001b[1;3m22500.0\u001b[0m\n",
      "\u001b[1m> Finished chain.\u001b[0m\n",
      "\n",
      "Observation: \u001b[38;5;200m\u001b[1;3mAnswer: 22500.0\u001b[0m\n",
      "Thought:\u001b[32;1m\u001b[1;3mI now know the final answer.\n",
      "Final Answer: You will be paid Php 22,500.00 if you encash your unused VLs.\u001b[0m\n",
      "\n",
      "\u001b[1m> Finished chain.\u001b[0m\n"
     ]
    },
    {
     "data": {
      "text/plain": [
       "'You will be paid Php 22,500.00 if you encash your unused VLs.'"
      ]
     },
     "execution_count": 24,
     "metadata": {},
     "output_type": "execute_result"
    }
   ],
   "source": [
    "get_response(\"How much will I be paid if I encash my unused VLs?\")"
   ]
  }
 ],
 "metadata": {
  "kernelspec": {
   "display_name": ".venv",
   "language": "python",
   "name": "python3"
  },
  "language_info": {
   "codemirror_mode": {
    "name": "ipython",
    "version": 3
   },
   "file_extension": ".py",
   "mimetype": "text/x-python",
   "name": "python",
   "nbconvert_exporter": "python",
   "pygments_lexer": "ipython3",
   "version": "3.10.11"
  },
  "orig_nbformat": 4
 },
 "nbformat": 4,
 "nbformat_minor": 2
}
